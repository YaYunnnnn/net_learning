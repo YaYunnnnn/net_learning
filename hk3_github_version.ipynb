{
 "cells": [
  {
   "cell_type": "code",
   "execution_count": 30,
   "id": "721261f6",
   "metadata": {},
   "outputs": [],
   "source": [
    "#起心動念：探索文本中的語意情感並進行重點摘要與統整。\n",
    "#場景應用：公關部門或是教育訓練單位，可以透過民眾或學員的文字反饋，了解文字中所透漏的情緒與在乎的重點。\n",
    "#如果是以公關角色來看待，這將有助於快速分辨現行民眾對於公司的正向或負向程度，並從中擷取重點事件。\n",
    "#教育訓練人員則可以透過此方法，了解受訓學員整體回饋是否與滿意度回饋相同，並知道學員最在乎的要點有哪些。"
   ]
  },
  {
   "cell_type": "code",
   "execution_count": 32,
   "id": "8cfa9905",
   "metadata": {
    "scrolled": false
   },
   "outputs": [
    {
     "ename": "SyntaxError",
     "evalue": "invalid syntax (1417652606.py, line 2)",
     "output_type": "error",
     "traceback": [
      "\u001b[1;36m  Cell \u001b[1;32mIn[32], line 2\u001b[1;36m\u001b[0m\n\u001b[1;33m    pip install textsum\u001b[0m\n\u001b[1;37m        ^\u001b[0m\n\u001b[1;31mSyntaxError\u001b[0m\u001b[1;31m:\u001b[0m invalid syntax\n"
     ]
    }
   ],
   "source": [
    "#hugging face:https://reurl.cc/xLnXee\n",
    "!pip install textsum"
   ]
  },
  {
   "cell_type": "code",
   "execution_count": 33,
   "id": "5a5846da",
   "metadata": {},
   "outputs": [
    {
     "name": "stderr",
     "output_type": "stream",
     "text": [
      "03/31/2024 11:11:52 INFO Loaded model pszemraj/led-large-book-summary to cpu\n"
     ]
    }
   ],
   "source": [
    "#hugging face:https://reurl.cc/xLnXee\n",
    "from textsum.summarize import Summarizer\n",
    "\n",
    "model_name = \"pszemraj/led-large-book-summary\"\n",
    "summarizer = Summarizer(\n",
    "    model_name_or_path=model_name,  # you can use any Seq2Seq model on the Hub\n",
    "    token_batch_length=4096,  # tokens to batch summarize at a time, up to 16384\n",
    ")"
   ]
  },
  {
   "cell_type": "code",
   "execution_count": 34,
   "id": "c9869f8e",
   "metadata": {},
   "outputs": [
    {
     "data": {
      "application/vnd.jupyter.widget-view+json": {
       "model_id": "e6926265e5b641f9b704828b04d4178d",
       "version_major": 2,
       "version_minor": 0
      },
      "text/plain": [
       "Generating Summaries:   0%|          | 0/1 [00:00<?, ?it/s]"
      ]
     },
     "metadata": {},
     "output_type": "display_data"
    },
    {
     "name": "stdout",
     "output_type": "stream",
     "text": [
      "summary: Henry's canon of work reflects his wide-ranging experiences and is distinguished for its wit, cleverness, and ironic twist endings. Henry is remembered by his readers as a man who lived a life of adventure and humor\n"
     ]
    }
   ],
   "source": [
    "#type1:手動輸入希望總結的文字\n",
    "#hugging face:https://reurl.cc/xLnXee\n",
    "long_string = \"Henry's rich canon of work reflected his wide-range of experiences and is distinctive for its witticism, clever wordplay, and unexpected twist endings.\"\n",
    "out_str = summarizer.summarize_string(long_string)\n",
    "print(f\"summary: {out_str}\")"
   ]
  },
  {
   "cell_type": "code",
   "execution_count": 35,
   "id": "844f19f3",
   "metadata": {},
   "outputs": [
    {
     "data": {
      "application/vnd.jupyter.widget-view+json": {
       "model_id": "1077e2adf0114632b77ca82a0924566b",
       "version_major": 2,
       "version_minor": 0
      },
      "text/plain": [
       "Generating Summaries:   0%|          | 0/1 [00:00<?, ?it/s]"
      ]
     },
     "metadata": {},
     "output_type": "display_data"
    },
    {
     "name": "stdout",
     "output_type": "stream",
     "text": [
      "summary: William Sydney Porter known as O. Henry was an American poet and short story author. His published work reflects his wide-ranging experiences and is distinguished for its wit, wittiness, cleverness, and unusual twist endings\n"
     ]
    }
   ],
   "source": [
    "#type2:節錄本地文件\n",
    "#hugging face:https://reurl.cc/xLnXee\n",
    "file_path = \"C:\\\\Users\\\\123\\\\Desktop\\\\net_learning\\\\hk3.txt\"\n",
    "with open(file_path, \"r\", encoding=\"utf-8\") as file:\n",
    "    text = file.read()\n",
    "\n",
    "# 將文本拆分成句子\n",
    "sentences = text.split(\".\")\n",
    "# 提取前幾個句子作為摘要\n",
    "summary_sentences = sentences[:3]\n",
    "# 將摘要句子組合成摘要文本\n",
    "summary = \". \".join(summary_sentences)\n",
    "\n",
    "out_str = summarizer.summarize_string(summary)\n",
    "print(f\"summary: {out_str}\")\n"
   ]
  },
  {
   "cell_type": "code",
   "execution_count": 36,
   "id": "3191c813",
   "metadata": {},
   "outputs": [
    {
     "name": "stdout",
     "output_type": "stream",
     "text": [
      "[{'label': 'POSITIVE', 'score': 0.9977118968963623}, {'label': 'POSITIVE', 'score': 0.9908888339996338}, {'label': 'POSITIVE', 'score': 0.9998646974563599}]\n"
     ]
    }
   ],
   "source": [
    "#將文本內容進行情意分析\n",
    "#hugging face:https://huggingface.co/xai-org/grok-1\n",
    "from transformers import pipeline\n",
    "\n",
    "# 通过pipeline函数加载文本分类模型\n",
    "classifier = pipeline(\"text-classification\", model=\"distilbert-base-uncased-finetuned-sst-2-english\")\n",
    "\n",
    "# 执行文本分类\n",
    "result = classifier(summary_sentences)\n",
    "\n",
    "# 输出分类结果\n",
    "print(result)"
   ]
  },
  {
   "cell_type": "code",
   "execution_count": 37,
   "id": "e7247b84",
   "metadata": {},
   "outputs": [
    {
     "name": "stdout",
     "output_type": "stream",
     "text": [
      "[{'entity_group': 'DATE', 'word': 'September 3nd', 'start': 3, 'end': 16, 'score': 0.9999903440475464}, {'entity_group': 'PERSON', 'word': 'George', 'start': 17, 'end': 23, 'score': 0.9999902248382568}, {'entity_group': 'MONEY', 'word': '1 dollar', 'start': 28, 'end': 36, 'score': 0.9999886751174927}, {'entity_group': 'WORK_OF_ART', 'word': 'Game of Thrones', 'start': 52, 'end': 67, 'score': 0.9999913771947225}]\n"
     ]
    }
   ],
   "source": [
    "#將內容進行標籤分類（手動輸入文字）\n",
    "#huggingface:https://huggingface.co/flair/ner-english-ontonotes-large?text=On+September+3nd+George+won+1+dollar+while+watching+Game+of+Thrones.\n",
    "import requests\n",
    "\n",
    "API_URL = \"https://api-inference.huggingface.co/models/flair/ner-english-ontonotes-large\"\n",
    "headers = {\"Authorization\": \"Bearer XXXXXXXXXXXXXXXXXXX\"}\n",
    "\n",
    "def query(payload):\n",
    "\tresponse = requests.post(API_URL, headers=headers, json=payload)\n",
    "\treturn response.json()\n",
    "\t\n",
    "output = query({\n",
    "\t\"inputs\": \"On September 3nd George won 1 dollar while watching Game of Thrones.\",\n",
    "})\n",
    "print(output)"
   ]
  },
  {
   "cell_type": "code",
   "execution_count": 38,
   "id": "580c4544",
   "metadata": {},
   "outputs": [
    {
     "name": "stdout",
     "output_type": "stream",
     "text": [
      "[{'entity_group': 'PERSON', 'word': 'O.  Henry', 'start': 0, 'end': 9, 'score': 0.9999961853027344}, {'entity_group': 'DATE', 'word': '1862 - 1910', 'start': 11, 'end': 22, 'score': 0.9917161067326864}, {'entity_group': 'NORP', 'word': 'American', 'start': 31, 'end': 39, 'score': 0.9999951124191284}, {'entity_group': 'PERSON', 'word': 'William Sydney Porter', 'start': 79, 'end': 100, 'score': 0.9999969402949015}, {'entity_group': 'PERSON', 'word': 'Henry', 'start': 103, 'end': 108, 'score': 0.9999558925628662}]\n"
     ]
    }
   ],
   "source": [
    "#將內容進行標籤分類（擷取電腦檔案）\n",
    "#huggingface:https://huggingface.co/flair/ner-english-ontonotes-large?text=On+September+3nd+George+won+1+dollar+while+watching+Game+of+Thrones.\n",
    "\n",
    "import requests\n",
    "\n",
    "API_URL = \"https://api-inference.huggingface.co/models/flair/ner-english-ontonotes-large\"\n",
    "headers = {\"Authorization\": \"Bearer XXXXXXXXXXXXXXXXXXX\"}\n",
    "\n",
    "def query(payload):\n",
    "    response = requests.post(API_URL, headers=headers, json=payload)\n",
    "    return response.json()\n",
    "\n",
    "# 读取本地文件，提取摘要文本\n",
    "file_path = \"C:\\\\Users\\\\123\\\\Desktop\\\\net_learning\\\\hk3.txt\"\n",
    "with open(file_path, \"r\", encoding=\"utf-8\") as file:\n",
    "    text = file.read()\n",
    "    \n",
    "# 将文本拆分成句子\n",
    "sentences = text.split(\".\")\n",
    "# 提取前几个句子作为摘要\n",
    "summary_sentences = sentences[:3]\n",
    "# 将摘要句子组合成摘要文本\n",
    "summary = \". \".join(summary_sentences)\n",
    "\n",
    "# 将摘要文本放入 output 中\n",
    "output = query({\"inputs\": summary})\n",
    "print(output)"
   ]
  },
  {
   "cell_type": "code",
   "execution_count": null,
   "id": "3eccafd2",
   "metadata": {},
   "outputs": [],
   "source": []
  },
  {
   "cell_type": "code",
   "execution_count": null,
   "id": "8517e2be",
   "metadata": {},
   "outputs": [],
   "source": []
  },
  {
   "cell_type": "code",
   "execution_count": null,
   "id": "ae36167a",
   "metadata": {},
   "outputs": [],
   "source": []
  }
 ],
 "metadata": {
  "kernelspec": {
   "display_name": "Python 3 (ipykernel)",
   "language": "python",
   "name": "python3"
  },
  "language_info": {
   "codemirror_mode": {
    "name": "ipython",
    "version": 3
   },
   "file_extension": ".py",
   "mimetype": "text/x-python",
   "name": "python",
   "nbconvert_exporter": "python",
   "pygments_lexer": "ipython3",
   "version": "3.11.5"
  }
 },
 "nbformat": 4,
 "nbformat_minor": 5
}
