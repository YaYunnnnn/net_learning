{
 "cells": [
  {
   "cell_type": "code",
   "execution_count": 2,
   "id": "19f5dc72",
   "metadata": {},
   "outputs": [
    {
     "name": "stdout",
     "output_type": "stream",
     "text": [
      "平均值： 189778.36651208502\n",
      "標準差： 105548.3568808908\n",
      "中位數： 178356.0\n"
     ]
    }
   ],
   "source": [
    "import pandas as pd\n",
    "import numpy as np\n",
    "\n",
    "df = pd.read_csv(\"C:/Users/123/Downloads/adult.csv\")\n",
    "\n",
    "selected_column = df['Income']\n",
    "data = selected_column.to_numpy()\n",
    "mean = np.mean (data)\n",
    "std = np.std(data)\n",
    "median = np.median(data)\n",
    "\n",
    "print(\"平均值：\",mean)\n",
    "print(\"標準差：\",std)\n",
    "print(\"中位數：\",median)\n"
   ]
  },
  {
   "cell_type": "code",
   "execution_count": null,
   "id": "481d14c7",
   "metadata": {},
   "outputs": [],
   "source": []
  }
 ],
 "metadata": {
  "kernelspec": {
   "display_name": "Python 3 (ipykernel)",
   "language": "python",
   "name": "python3"
  },
  "language_info": {
   "codemirror_mode": {
    "name": "ipython",
    "version": 3
   },
   "file_extension": ".py",
   "mimetype": "text/x-python",
   "name": "python",
   "nbconvert_exporter": "python",
   "pygments_lexer": "ipython3",
   "version": "3.11.5"
  }
 },
 "nbformat": 4,
 "nbformat_minor": 5
}
